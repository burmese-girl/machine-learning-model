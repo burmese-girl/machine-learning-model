import pandas as pd
import matplotlib.pyplot as plt

# Load data
data = pd.read_csv("../data/raw/dataset.csv")

# EDA
data.describe()
data.hist(figsize=(10, 8))
plt.show()
